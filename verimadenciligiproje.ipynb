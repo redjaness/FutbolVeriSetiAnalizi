{
 "cells": [
  {
   "cell_type": "code",
   "execution_count": 1,
   "id": "dd87f0e8",
   "metadata": {
    "execution": {
     "iopub.execute_input": "2024-05-07T21:24:37.598971Z",
     "iopub.status.busy": "2024-05-07T21:24:37.598532Z",
     "iopub.status.idle": "2024-05-07T21:24:40.571227Z",
     "shell.execute_reply": "2024-05-07T21:24:40.570239Z"
    },
    "papermill": {
     "duration": 2.991094,
     "end_time": "2024-05-07T21:24:40.574029",
     "exception": false,
     "start_time": "2024-05-07T21:24:37.582935",
     "status": "completed"
    },
    "tags": []
   },
   "outputs": [],
   "source": [
    "import numpy as np \n",
    "import pandas as pd\n",
    "import matplotlib.pyplot as plt\n",
    "import seaborn as sns\n",
    "from sklearn.tree import DecisionTreeRegressor\n",
    "from sklearn.model_selection import train_test_split"
   ]
  },
  {
   "cell_type": "code",
   "execution_count": 2,
   "id": "7e64d466",
   "metadata": {
    "execution": {
     "iopub.execute_input": "2024-05-07T21:24:40.600827Z",
     "iopub.status.busy": "2024-05-07T21:24:40.599885Z",
     "iopub.status.idle": "2024-05-07T21:24:40.706413Z",
     "shell.execute_reply": "2024-05-07T21:24:40.705484Z"
    },
    "papermill": {
     "duration": 0.122532,
     "end_time": "2024-05-07T21:24:40.709196",
     "exception": false,
     "start_time": "2024-05-07T21:24:40.586664",
     "status": "completed"
    },
    "tags": []
   },
   "outputs": [],
   "source": [
    "data = pd.read_csv('/kaggle/input/finaldata2/final_data.csv')\n"
   ]
  },
  {
   "cell_type": "code",
   "execution_count": 3,
   "id": "bc617642",
   "metadata": {
    "execution": {
     "iopub.execute_input": "2024-05-07T21:24:40.734713Z",
     "iopub.status.busy": "2024-05-07T21:24:40.734284Z",
     "iopub.status.idle": "2024-05-07T21:24:40.776555Z",
     "shell.execute_reply": "2024-05-07T21:24:40.775229Z"
    },
    "papermill": {
     "duration": 0.05788,
     "end_time": "2024-05-07T21:24:40.778924",
     "exception": false,
     "start_time": "2024-05-07T21:24:40.721044",
     "status": "completed"
    },
    "tags": []
   },
   "outputs": [
    {
     "data": {
      "text/html": [
       "<div>\n",
       "<style scoped>\n",
       "    .dataframe tbody tr th:only-of-type {\n",
       "        vertical-align: middle;\n",
       "    }\n",
       "\n",
       "    .dataframe tbody tr th {\n",
       "        vertical-align: top;\n",
       "    }\n",
       "\n",
       "    .dataframe thead th {\n",
       "        text-align: right;\n",
       "    }\n",
       "</style>\n",
       "<table border=\"1\" class=\"dataframe\">\n",
       "  <thead>\n",
       "    <tr style=\"text-align: right;\">\n",
       "      <th></th>\n",
       "      <th>player</th>\n",
       "      <th>team</th>\n",
       "      <th>name</th>\n",
       "      <th>position</th>\n",
       "      <th>height</th>\n",
       "      <th>age</th>\n",
       "      <th>appearance</th>\n",
       "      <th>goals</th>\n",
       "      <th>assists</th>\n",
       "      <th>yellow cards</th>\n",
       "      <th>...</th>\n",
       "      <th>goals conceded</th>\n",
       "      <th>clean sheets</th>\n",
       "      <th>minutes played</th>\n",
       "      <th>days_injured</th>\n",
       "      <th>games_injured</th>\n",
       "      <th>award</th>\n",
       "      <th>current_value</th>\n",
       "      <th>highest_value</th>\n",
       "      <th>position_encoded</th>\n",
       "      <th>winger;</th>\n",
       "    </tr>\n",
       "  </thead>\n",
       "  <tbody>\n",
       "    <tr>\n",
       "      <th>0</th>\n",
       "      <td>/david-de-gea/profil/spieler/59377</td>\n",
       "      <td>Manchester United</td>\n",
       "      <td>David de Gea</td>\n",
       "      <td>Goalkeeper</td>\n",
       "      <td>NaN</td>\n",
       "      <td>32.0</td>\n",
       "      <td>104</td>\n",
       "      <td>0.000000</td>\n",
       "      <td>0.000000</td>\n",
       "      <td>0.009585</td>\n",
       "      <td>...</td>\n",
       "      <td>1.217252</td>\n",
       "      <td>0.335463</td>\n",
       "      <td>9390</td>\n",
       "      <td>42</td>\n",
       "      <td>5</td>\n",
       "      <td>13</td>\n",
       "      <td>15000000</td>\n",
       "      <td>70000000</td>\n",
       "      <td>1</td>\n",
       "      <td>0;</td>\n",
       "    </tr>\n",
       "    <tr>\n",
       "      <th>1</th>\n",
       "      <td>/jack-butland/profil/spieler/128899</td>\n",
       "      <td>Manchester United</td>\n",
       "      <td>Jack Butland</td>\n",
       "      <td>Goalkeeper</td>\n",
       "      <td>196</td>\n",
       "      <td>30.0</td>\n",
       "      <td>15</td>\n",
       "      <td>0.000000</td>\n",
       "      <td>0.000000</td>\n",
       "      <td>0.069018</td>\n",
       "      <td>...</td>\n",
       "      <td>1.242331</td>\n",
       "      <td>0.207055</td>\n",
       "      <td>1304</td>\n",
       "      <td>510</td>\n",
       "      <td>58</td>\n",
       "      <td>1</td>\n",
       "      <td>1500000</td>\n",
       "      <td>22000000</td>\n",
       "      <td>1</td>\n",
       "      <td>0;</td>\n",
       "    </tr>\n",
       "    <tr>\n",
       "      <th>2</th>\n",
       "      <td>/tom-heaton/profil/spieler/34130</td>\n",
       "      <td>Manchester United</td>\n",
       "      <td>Tom Heaton</td>\n",
       "      <td>Goalkeeper</td>\n",
       "      <td>188</td>\n",
       "      <td>37.0</td>\n",
       "      <td>4</td>\n",
       "      <td>0.000000</td>\n",
       "      <td>0.000000</td>\n",
       "      <td>0.000000</td>\n",
       "      <td>...</td>\n",
       "      <td>0.616438</td>\n",
       "      <td>0.924658</td>\n",
       "      <td>292</td>\n",
       "      <td>697</td>\n",
       "      <td>84</td>\n",
       "      <td>4</td>\n",
       "      <td>600000</td>\n",
       "      <td>6000000</td>\n",
       "      <td>1</td>\n",
       "      <td>0;</td>\n",
       "    </tr>\n",
       "    <tr>\n",
       "      <th>3</th>\n",
       "      <td>/lisandro-martinez/profil/spieler/480762</td>\n",
       "      <td>Manchester United</td>\n",
       "      <td>Lisandro Martínez</td>\n",
       "      <td>Defender Centre-Back</td>\n",
       "      <td>175</td>\n",
       "      <td>25.0</td>\n",
       "      <td>82</td>\n",
       "      <td>0.028090</td>\n",
       "      <td>0.056180</td>\n",
       "      <td>0.224719</td>\n",
       "      <td>...</td>\n",
       "      <td>0.000000</td>\n",
       "      <td>0.000000</td>\n",
       "      <td>6408</td>\n",
       "      <td>175</td>\n",
       "      <td>22</td>\n",
       "      <td>9</td>\n",
       "      <td>50000000</td>\n",
       "      <td>50000000</td>\n",
       "      <td>2</td>\n",
       "      <td>0;</td>\n",
       "    </tr>\n",
       "    <tr>\n",
       "      <th>4</th>\n",
       "      <td>/raphael-varane/profil/spieler/164770</td>\n",
       "      <td>Manchester United</td>\n",
       "      <td>Raphaël Varane</td>\n",
       "      <td>Defender Centre-Back</td>\n",
       "      <td>191</td>\n",
       "      <td>30.0</td>\n",
       "      <td>63</td>\n",
       "      <td>0.017889</td>\n",
       "      <td>0.017889</td>\n",
       "      <td>0.053667</td>\n",
       "      <td>...</td>\n",
       "      <td>0.000000</td>\n",
       "      <td>0.000000</td>\n",
       "      <td>5031</td>\n",
       "      <td>238</td>\n",
       "      <td>51</td>\n",
       "      <td>21</td>\n",
       "      <td>40000000</td>\n",
       "      <td>80000000</td>\n",
       "      <td>2</td>\n",
       "      <td>0;</td>\n",
       "    </tr>\n",
       "  </tbody>\n",
       "</table>\n",
       "<p>5 rows × 22 columns</p>\n",
       "</div>"
      ],
      "text/plain": [
       "                                     player               team  \\\n",
       "0        /david-de-gea/profil/spieler/59377  Manchester United   \n",
       "1       /jack-butland/profil/spieler/128899  Manchester United   \n",
       "2          /tom-heaton/profil/spieler/34130  Manchester United   \n",
       "3  /lisandro-martinez/profil/spieler/480762  Manchester United   \n",
       "4     /raphael-varane/profil/spieler/164770  Manchester United   \n",
       "\n",
       "                name              position height   age  appearance     goals  \\\n",
       "0       David de Gea            Goalkeeper    NaN  32.0         104  0.000000   \n",
       "1       Jack Butland            Goalkeeper    196  30.0          15  0.000000   \n",
       "2         Tom Heaton            Goalkeeper    188  37.0           4  0.000000   \n",
       "3  Lisandro Martínez  Defender Centre-Back    175  25.0          82  0.028090   \n",
       "4     Raphaël Varane  Defender Centre-Back    191  30.0          63  0.017889   \n",
       "\n",
       "    assists  yellow cards  ...  goals conceded  clean sheets  minutes played  \\\n",
       "0  0.000000      0.009585  ...        1.217252      0.335463            9390   \n",
       "1  0.000000      0.069018  ...        1.242331      0.207055            1304   \n",
       "2  0.000000      0.000000  ...        0.616438      0.924658             292   \n",
       "3  0.056180      0.224719  ...        0.000000      0.000000            6408   \n",
       "4  0.017889      0.053667  ...        0.000000      0.000000            5031   \n",
       "\n",
       "   days_injured  games_injured  award  current_value  highest_value  \\\n",
       "0            42              5     13       15000000       70000000   \n",
       "1           510             58      1        1500000       22000000   \n",
       "2           697             84      4         600000        6000000   \n",
       "3           175             22      9       50000000       50000000   \n",
       "4           238             51     21       40000000       80000000   \n",
       "\n",
       "   position_encoded  winger;  \n",
       "0                 1       0;  \n",
       "1                 1       0;  \n",
       "2                 1       0;  \n",
       "3                 2       0;  \n",
       "4                 2       0;  \n",
       "\n",
       "[5 rows x 22 columns]"
      ]
     },
     "execution_count": 3,
     "metadata": {},
     "output_type": "execute_result"
    }
   ],
   "source": [
    "data.head(5)\n"
   ]
  },
  {
   "cell_type": "code",
   "execution_count": 4,
   "id": "bb847236",
   "metadata": {
    "execution": {
     "iopub.execute_input": "2024-05-07T21:24:40.805754Z",
     "iopub.status.busy": "2024-05-07T21:24:40.805357Z",
     "iopub.status.idle": "2024-05-07T21:24:40.824406Z",
     "shell.execute_reply": "2024-05-07T21:24:40.823331Z"
    },
    "papermill": {
     "duration": 0.035723,
     "end_time": "2024-05-07T21:24:40.826859",
     "exception": false,
     "start_time": "2024-05-07T21:24:40.791136",
     "status": "completed"
    },
    "tags": []
   },
   "outputs": [
    {
     "data": {
      "text/plain": [
       "player                  0\n",
       "team                    0\n",
       "name                    0\n",
       "position                0\n",
       "height                 51\n",
       "age                    11\n",
       "appearance              0\n",
       "goals                   0\n",
       "assists                 0\n",
       "yellow cards            0\n",
       "second yellow cards     0\n",
       "red cards               0\n",
       "goals conceded          0\n",
       "clean sheets            0\n",
       "minutes played          0\n",
       "days_injured            0\n",
       "games_injured           0\n",
       "award                   0\n",
       "current_value           0\n",
       "highest_value           0\n",
       "position_encoded        0\n",
       "winger;                 0\n",
       "dtype: int64"
      ]
     },
     "execution_count": 4,
     "metadata": {},
     "output_type": "execute_result"
    }
   ],
   "source": [
    "data.isnull().sum()\n"
   ]
  },
  {
   "cell_type": "code",
   "execution_count": 5,
   "id": "f0da06a6",
   "metadata": {
    "execution": {
     "iopub.execute_input": "2024-05-07T21:24:40.853597Z",
     "iopub.status.busy": "2024-05-07T21:24:40.853175Z",
     "iopub.status.idle": "2024-05-07T21:24:40.873587Z",
     "shell.execute_reply": "2024-05-07T21:24:40.872626Z"
    },
    "papermill": {
     "duration": 0.03649,
     "end_time": "2024-05-07T21:24:40.875796",
     "exception": false,
     "start_time": "2024-05-07T21:24:40.839306",
     "status": "completed"
    },
    "tags": []
   },
   "outputs": [
    {
     "name": "stdout",
     "output_type": "stream",
     "text": [
      "181.24028357171028\n"
     ]
    }
   ],
   "source": [
    "\n",
    "data['height'] = pd.to_numeric(data['height'], errors='coerce')\n",
    "\n",
    "mean_value = data['height'].mean()\n",
    "\n",
    "print(mean_value)\n",
    "\n",
    "data.fillna({'height': mean_value}, inplace=True)"
   ]
  },
  {
   "cell_type": "code",
   "execution_count": 6,
   "id": "a54f1509",
   "metadata": {
    "execution": {
     "iopub.execute_input": "2024-05-07T21:24:40.902658Z",
     "iopub.status.busy": "2024-05-07T21:24:40.902170Z",
     "iopub.status.idle": "2024-05-07T21:24:40.910143Z",
     "shell.execute_reply": "2024-05-07T21:24:40.908923Z"
    },
    "papermill": {
     "duration": 0.024081,
     "end_time": "2024-05-07T21:24:40.912501",
     "exception": false,
     "start_time": "2024-05-07T21:24:40.888420",
     "status": "completed"
    },
    "tags": []
   },
   "outputs": [
    {
     "name": "stdout",
     "output_type": "stream",
     "text": [
      "26.041853164860843\n"
     ]
    }
   ],
   "source": [
    "mean_value2 = data['age'].mean()\n",
    "\n",
    "print(mean_value2)\n",
    "\n",
    "data.fillna({'age': mean_value}, inplace=True)"
   ]
  },
  {
   "cell_type": "code",
   "execution_count": 7,
   "id": "cb16fc90",
   "metadata": {
    "execution": {
     "iopub.execute_input": "2024-05-07T21:24:40.942075Z",
     "iopub.status.busy": "2024-05-07T21:24:40.941681Z",
     "iopub.status.idle": "2024-05-07T21:24:40.969617Z",
     "shell.execute_reply": "2024-05-07T21:24:40.968076Z"
    },
    "papermill": {
     "duration": 0.045793,
     "end_time": "2024-05-07T21:24:40.972979",
     "exception": false,
     "start_time": "2024-05-07T21:24:40.927186",
     "status": "completed"
    },
    "tags": []
   },
   "outputs": [
    {
     "data": {
      "text/html": [
       "<div>\n",
       "<style scoped>\n",
       "    .dataframe tbody tr th:only-of-type {\n",
       "        vertical-align: middle;\n",
       "    }\n",
       "\n",
       "    .dataframe tbody tr th {\n",
       "        vertical-align: top;\n",
       "    }\n",
       "\n",
       "    .dataframe thead th {\n",
       "        text-align: right;\n",
       "    }\n",
       "</style>\n",
       "<table border=\"1\" class=\"dataframe\">\n",
       "  <thead>\n",
       "    <tr style=\"text-align: right;\">\n",
       "      <th></th>\n",
       "      <th>player</th>\n",
       "      <th>team</th>\n",
       "      <th>name</th>\n",
       "      <th>position</th>\n",
       "      <th>height</th>\n",
       "      <th>age</th>\n",
       "      <th>appearance</th>\n",
       "      <th>goals</th>\n",
       "      <th>assists</th>\n",
       "      <th>yellow cards</th>\n",
       "      <th>...</th>\n",
       "      <th>goals conceded</th>\n",
       "      <th>clean sheets</th>\n",
       "      <th>minutes played</th>\n",
       "      <th>days_injured</th>\n",
       "      <th>games_injured</th>\n",
       "      <th>award</th>\n",
       "      <th>current_value</th>\n",
       "      <th>highest_value</th>\n",
       "      <th>position_encoded</th>\n",
       "      <th>winger;</th>\n",
       "    </tr>\n",
       "  </thead>\n",
       "  <tbody>\n",
       "    <tr>\n",
       "      <th>0</th>\n",
       "      <td>/david-de-gea/profil/spieler/59377</td>\n",
       "      <td>Manchester United</td>\n",
       "      <td>David de Gea</td>\n",
       "      <td>Goalkeeper</td>\n",
       "      <td>181.240284</td>\n",
       "      <td>32.0</td>\n",
       "      <td>104</td>\n",
       "      <td>0.000000</td>\n",
       "      <td>0.000000</td>\n",
       "      <td>0.009585</td>\n",
       "      <td>...</td>\n",
       "      <td>1.217252</td>\n",
       "      <td>0.335463</td>\n",
       "      <td>9390</td>\n",
       "      <td>42</td>\n",
       "      <td>5</td>\n",
       "      <td>13</td>\n",
       "      <td>15000000</td>\n",
       "      <td>70000000</td>\n",
       "      <td>1</td>\n",
       "      <td>0;</td>\n",
       "    </tr>\n",
       "    <tr>\n",
       "      <th>1</th>\n",
       "      <td>/jack-butland/profil/spieler/128899</td>\n",
       "      <td>Manchester United</td>\n",
       "      <td>Jack Butland</td>\n",
       "      <td>Goalkeeper</td>\n",
       "      <td>196.000000</td>\n",
       "      <td>30.0</td>\n",
       "      <td>15</td>\n",
       "      <td>0.000000</td>\n",
       "      <td>0.000000</td>\n",
       "      <td>0.069018</td>\n",
       "      <td>...</td>\n",
       "      <td>1.242331</td>\n",
       "      <td>0.207055</td>\n",
       "      <td>1304</td>\n",
       "      <td>510</td>\n",
       "      <td>58</td>\n",
       "      <td>1</td>\n",
       "      <td>1500000</td>\n",
       "      <td>22000000</td>\n",
       "      <td>1</td>\n",
       "      <td>0;</td>\n",
       "    </tr>\n",
       "    <tr>\n",
       "      <th>2</th>\n",
       "      <td>/tom-heaton/profil/spieler/34130</td>\n",
       "      <td>Manchester United</td>\n",
       "      <td>Tom Heaton</td>\n",
       "      <td>Goalkeeper</td>\n",
       "      <td>188.000000</td>\n",
       "      <td>37.0</td>\n",
       "      <td>4</td>\n",
       "      <td>0.000000</td>\n",
       "      <td>0.000000</td>\n",
       "      <td>0.000000</td>\n",
       "      <td>...</td>\n",
       "      <td>0.616438</td>\n",
       "      <td>0.924658</td>\n",
       "      <td>292</td>\n",
       "      <td>697</td>\n",
       "      <td>84</td>\n",
       "      <td>4</td>\n",
       "      <td>600000</td>\n",
       "      <td>6000000</td>\n",
       "      <td>1</td>\n",
       "      <td>0;</td>\n",
       "    </tr>\n",
       "    <tr>\n",
       "      <th>3</th>\n",
       "      <td>/lisandro-martinez/profil/spieler/480762</td>\n",
       "      <td>Manchester United</td>\n",
       "      <td>Lisandro Martínez</td>\n",
       "      <td>Defender Centre-Back</td>\n",
       "      <td>175.000000</td>\n",
       "      <td>25.0</td>\n",
       "      <td>82</td>\n",
       "      <td>0.028090</td>\n",
       "      <td>0.056180</td>\n",
       "      <td>0.224719</td>\n",
       "      <td>...</td>\n",
       "      <td>0.000000</td>\n",
       "      <td>0.000000</td>\n",
       "      <td>6408</td>\n",
       "      <td>175</td>\n",
       "      <td>22</td>\n",
       "      <td>9</td>\n",
       "      <td>50000000</td>\n",
       "      <td>50000000</td>\n",
       "      <td>2</td>\n",
       "      <td>0;</td>\n",
       "    </tr>\n",
       "    <tr>\n",
       "      <th>4</th>\n",
       "      <td>/raphael-varane/profil/spieler/164770</td>\n",
       "      <td>Manchester United</td>\n",
       "      <td>Raphaël Varane</td>\n",
       "      <td>Defender Centre-Back</td>\n",
       "      <td>191.000000</td>\n",
       "      <td>30.0</td>\n",
       "      <td>63</td>\n",
       "      <td>0.017889</td>\n",
       "      <td>0.017889</td>\n",
       "      <td>0.053667</td>\n",
       "      <td>...</td>\n",
       "      <td>0.000000</td>\n",
       "      <td>0.000000</td>\n",
       "      <td>5031</td>\n",
       "      <td>238</td>\n",
       "      <td>51</td>\n",
       "      <td>21</td>\n",
       "      <td>40000000</td>\n",
       "      <td>80000000</td>\n",
       "      <td>2</td>\n",
       "      <td>0;</td>\n",
       "    </tr>\n",
       "  </tbody>\n",
       "</table>\n",
       "<p>5 rows × 22 columns</p>\n",
       "</div>"
      ],
      "text/plain": [
       "                                     player               team  \\\n",
       "0        /david-de-gea/profil/spieler/59377  Manchester United   \n",
       "1       /jack-butland/profil/spieler/128899  Manchester United   \n",
       "2          /tom-heaton/profil/spieler/34130  Manchester United   \n",
       "3  /lisandro-martinez/profil/spieler/480762  Manchester United   \n",
       "4     /raphael-varane/profil/spieler/164770  Manchester United   \n",
       "\n",
       "                name              position      height   age  appearance  \\\n",
       "0       David de Gea            Goalkeeper  181.240284  32.0         104   \n",
       "1       Jack Butland            Goalkeeper  196.000000  30.0          15   \n",
       "2         Tom Heaton            Goalkeeper  188.000000  37.0           4   \n",
       "3  Lisandro Martínez  Defender Centre-Back  175.000000  25.0          82   \n",
       "4     Raphaël Varane  Defender Centre-Back  191.000000  30.0          63   \n",
       "\n",
       "      goals   assists  yellow cards  ...  goals conceded  clean sheets  \\\n",
       "0  0.000000  0.000000      0.009585  ...        1.217252      0.335463   \n",
       "1  0.000000  0.000000      0.069018  ...        1.242331      0.207055   \n",
       "2  0.000000  0.000000      0.000000  ...        0.616438      0.924658   \n",
       "3  0.028090  0.056180      0.224719  ...        0.000000      0.000000   \n",
       "4  0.017889  0.017889      0.053667  ...        0.000000      0.000000   \n",
       "\n",
       "   minutes played  days_injured  games_injured  award  current_value  \\\n",
       "0            9390            42              5     13       15000000   \n",
       "1            1304           510             58      1        1500000   \n",
       "2             292           697             84      4         600000   \n",
       "3            6408           175             22      9       50000000   \n",
       "4            5031           238             51     21       40000000   \n",
       "\n",
       "   highest_value  position_encoded  winger;  \n",
       "0       70000000                 1       0;  \n",
       "1       22000000                 1       0;  \n",
       "2        6000000                 1       0;  \n",
       "3       50000000                 2       0;  \n",
       "4       80000000                 2       0;  \n",
       "\n",
       "[5 rows x 22 columns]"
      ]
     },
     "execution_count": 7,
     "metadata": {},
     "output_type": "execute_result"
    }
   ],
   "source": [
    "data.head()\n"
   ]
  },
  {
   "cell_type": "code",
   "execution_count": 8,
   "id": "a916457b",
   "metadata": {
    "execution": {
     "iopub.execute_input": "2024-05-07T21:24:41.000821Z",
     "iopub.status.busy": "2024-05-07T21:24:41.000375Z",
     "iopub.status.idle": "2024-05-07T21:24:41.016708Z",
     "shell.execute_reply": "2024-05-07T21:24:41.015578Z"
    },
    "papermill": {
     "duration": 0.03339,
     "end_time": "2024-05-07T21:24:41.019580",
     "exception": false,
     "start_time": "2024-05-07T21:24:40.986190",
     "status": "completed"
    },
    "tags": []
   },
   "outputs": [
    {
     "data": {
      "text/plain": [
       "team\n",
       "Daejeon Hana Citizen      46\n",
       "Jeonbuk Hyundai Motors    46\n",
       "FC Seoul                  45\n",
       "Gangwon FC                43\n",
       "Daegu FC                  42\n",
       "                          ..\n",
       "FC Barcelona              22\n",
       "Atlético de Madrid        22\n",
       "CA Osasuna                22\n",
       "Hatayspor                 12\n",
       "Gaziantep FK               6\n",
       "Name: count, Length: 374, dtype: int64"
      ]
     },
     "execution_count": 8,
     "metadata": {},
     "output_type": "execute_result"
    }
   ],
   "source": [
    "data['team'].value_counts()"
   ]
  },
  {
   "cell_type": "code",
   "execution_count": 9,
   "id": "f7954dbe",
   "metadata": {
    "execution": {
     "iopub.execute_input": "2024-05-07T21:24:41.048060Z",
     "iopub.status.busy": "2024-05-07T21:24:41.047626Z",
     "iopub.status.idle": "2024-05-07T21:24:41.060999Z",
     "shell.execute_reply": "2024-05-07T21:24:41.060189Z"
    },
    "papermill": {
     "duration": 0.030207,
     "end_time": "2024-05-07T21:24:41.063161",
     "exception": false,
     "start_time": "2024-05-07T21:24:41.032954",
     "status": "completed"
    },
    "tags": []
   },
   "outputs": [
    {
     "data": {
      "text/plain": [
       "position\n",
       "Defender Centre-Back          1821\n",
       "Attack Centre-Forward         1353\n",
       "Goalkeeper                    1229\n",
       "midfield-CentralMidfield      1149\n",
       "midfield-DefensiveMidfield     900\n",
       "Defender Right-Back            867\n",
       "Defender Left-Back             807\n",
       "midfield-AttackingMidfield     769\n",
       "Attack-RightWinger             717\n",
       "Attack-LeftWinger              714\n",
       "midfield-RightMidfield         102\n",
       "midfield-LeftMidfield          100\n",
       "midfield                        75\n",
       "Attack-SecondStriker            65\n",
       "Attack                          53\n",
       "Defender                        33\n",
       "Name: count, dtype: int64"
      ]
     },
     "execution_count": 9,
     "metadata": {},
     "output_type": "execute_result"
    }
   ],
   "source": [
    "y = data['current_value']\n",
    "x = data.drop('current_value', axis=1)\n",
    "x['position'].value_counts()"
   ]
  },
  {
   "cell_type": "code",
   "execution_count": 10,
   "id": "ffc3a436",
   "metadata": {
    "execution": {
     "iopub.execute_input": "2024-05-07T21:24:41.091624Z",
     "iopub.status.busy": "2024-05-07T21:24:41.091205Z",
     "iopub.status.idle": "2024-05-07T21:24:41.106240Z",
     "shell.execute_reply": "2024-05-07T21:24:41.104920Z"
    },
    "papermill": {
     "duration": 0.031927,
     "end_time": "2024-05-07T21:24:41.108547",
     "exception": false,
     "start_time": "2024-05-07T21:24:41.076620",
     "status": "completed"
    },
    "tags": []
   },
   "outputs": [
    {
     "name": "stdout",
     "output_type": "stream",
     "text": [
      "                   name                 team  current_value\n",
      "2644      Kylian Mbappé  Paris Saint-Germain      180000000\n",
      "453      Erling Haaland      Manchester City      170000000\n",
      "1521    Vinicius Junior          Real Madrid      150000000\n",
      "960     Jude Bellingham    Borussia Dortmund      120000000\n",
      "450          Phil Foden      Manchester City      110000000\n",
      "1017      Jamal Musiala        Bayern Munich      110000000\n",
      "474         Bukayo Saka           Arsenal FC      110000000\n",
      "1516  Federico Valverde          Real Madrid      100000000\n",
      "1523            Rodrygo          Real Madrid      100000000\n",
      "2023     Victor Osimhen           SSC Napoli      100000000\n"
     ]
    }
   ],
   "source": [
    "players = data[['name', 'team', 'current_value']]\n",
    "expensive_players = players.sort_values(by='current_value', ascending=False)\n",
    "\n",
    "top_10_expensive = expensive_players.head(10)\n",
    "print(top_10_expensive)\n"
   ]
  },
  {
   "cell_type": "code",
   "execution_count": 11,
   "id": "511a40e7",
   "metadata": {
    "execution": {
     "iopub.execute_input": "2024-05-07T21:24:41.137781Z",
     "iopub.status.busy": "2024-05-07T21:24:41.137015Z",
     "iopub.status.idle": "2024-05-07T21:24:41.485268Z",
     "shell.execute_reply": "2024-05-07T21:24:41.484130Z"
    },
    "papermill": {
     "duration": 0.365402,
     "end_time": "2024-05-07T21:24:41.487835",
     "exception": false,
     "start_time": "2024-05-07T21:24:41.122433",
     "status": "completed"
    },
    "tags": []
   },
   "outputs": [
    {
     "data": {
      "image/png": "[encoded data removed]",
      "text/plain": [
       "<Figure size 1000x600 with 1 Axes>"
      ]
     },
     "metadata": {},
     "output_type": "display_data"
    }
   ],
   "source": [
    "plt.figure(figsize=(10, 6))\n",
    "plt.barh(top_10_expensive['name'], top_10_expensive['current_value'], color='skyblue')\n",
    "plt.xlabel('Current Value')\n",
    "plt.title('En Değerli 10 Oyuncu')\n",
    "plt.gca().invert_yaxis()\n",
    "plt.show()\n"
   ]
  },
  {
   "cell_type": "code",
   "execution_count": 12,
   "id": "3256e320",
   "metadata": {
    "execution": {
     "iopub.execute_input": "2024-05-07T21:24:41.518055Z",
     "iopub.status.busy": "2024-05-07T21:24:41.517460Z",
     "iopub.status.idle": "2024-05-07T21:24:41.554245Z",
     "shell.execute_reply": "2024-05-07T21:24:41.553161Z"
    },
    "papermill": {
     "duration": 0.055097,
     "end_time": "2024-05-07T21:24:41.556942",
     "exception": false,
     "start_time": "2024-05-07T21:24:41.501845",
     "status": "completed"
    },
    "tags": []
   },
   "outputs": [
    {
     "data": {
      "text/html": [
       "<div>\n",
       "<style scoped>\n",
       "    .dataframe tbody tr th:only-of-type {\n",
       "        vertical-align: middle;\n",
       "    }\n",
       "\n",
       "    .dataframe tbody tr th {\n",
       "        vertical-align: top;\n",
       "    }\n",
       "\n",
       "    .dataframe thead th {\n",
       "        text-align: right;\n",
       "    }\n",
       "</style>\n",
       "<table border=\"1\" class=\"dataframe\">\n",
       "  <thead>\n",
       "    <tr style=\"text-align: right;\">\n",
       "      <th></th>\n",
       "      <th>player</th>\n",
       "      <th>team</th>\n",
       "      <th>name</th>\n",
       "      <th>position</th>\n",
       "      <th>height</th>\n",
       "      <th>age</th>\n",
       "      <th>appearance</th>\n",
       "      <th>goals</th>\n",
       "      <th>assists</th>\n",
       "      <th>yellow cards</th>\n",
       "      <th>...</th>\n",
       "      <th>goals conceded</th>\n",
       "      <th>clean sheets</th>\n",
       "      <th>minutes played</th>\n",
       "      <th>days_injured</th>\n",
       "      <th>games_injured</th>\n",
       "      <th>award</th>\n",
       "      <th>current_value</th>\n",
       "      <th>highest_value</th>\n",
       "      <th>position_encoded</th>\n",
       "      <th>winger;</th>\n",
       "    </tr>\n",
       "  </thead>\n",
       "  <tbody>\n",
       "    <tr>\n",
       "      <th>5284</th>\n",
       "      <td>/frank-fielding/profil/spieler/57070</td>\n",
       "      <td>Stoke City</td>\n",
       "      <td>Frank Fielding</td>\n",
       "      <td>Goalkeeper</td>\n",
       "      <td>185.000000</td>\n",
       "      <td>35.0</td>\n",
       "      <td>2</td>\n",
       "      <td>0.0</td>\n",
       "      <td>0.0</td>\n",
       "      <td>0.0</td>\n",
       "      <td>...</td>\n",
       "      <td>1.000000</td>\n",
       "      <td>0.000000</td>\n",
       "      <td>180</td>\n",
       "      <td>400</td>\n",
       "      <td>51</td>\n",
       "      <td>2</td>\n",
       "      <td>200000</td>\n",
       "      <td>1000000</td>\n",
       "      <td>1</td>\n",
       "      <td>0;</td>\n",
       "    </tr>\n",
       "    <tr>\n",
       "      <th>8893</th>\n",
       "      <td>/masaaki-higashiguchi/profil/spieler/113712</td>\n",
       "      <td>Gamba Osaka</td>\n",
       "      <td>Masaaki Higashiguchi</td>\n",
       "      <td>Goalkeeper</td>\n",
       "      <td>184.000000</td>\n",
       "      <td>37.0</td>\n",
       "      <td>7</td>\n",
       "      <td>0.0</td>\n",
       "      <td>0.0</td>\n",
       "      <td>0.0</td>\n",
       "      <td>...</td>\n",
       "      <td>1.714286</td>\n",
       "      <td>0.000000</td>\n",
       "      <td>630</td>\n",
       "      <td>678</td>\n",
       "      <td>92</td>\n",
       "      <td>5</td>\n",
       "      <td>200000</td>\n",
       "      <td>1450000</td>\n",
       "      <td>1</td>\n",
       "      <td>0;</td>\n",
       "    </tr>\n",
       "    <tr>\n",
       "      <th>8894</th>\n",
       "      <td>/kei-ishikawa/profil/spieler/164251</td>\n",
       "      <td>Gamba Osaka</td>\n",
       "      <td>Kei Ishikawa</td>\n",
       "      <td>Goalkeeper</td>\n",
       "      <td>185.000000</td>\n",
       "      <td>30.0</td>\n",
       "      <td>0</td>\n",
       "      <td>0.0</td>\n",
       "      <td>0.0</td>\n",
       "      <td>0.0</td>\n",
       "      <td>...</td>\n",
       "      <td>0.000000</td>\n",
       "      <td>0.000000</td>\n",
       "      <td>0</td>\n",
       "      <td>0</td>\n",
       "      <td>0</td>\n",
       "      <td>0</td>\n",
       "      <td>100000</td>\n",
       "      <td>100000</td>\n",
       "      <td>1</td>\n",
       "      <td>0;</td>\n",
       "    </tr>\n",
       "    <tr>\n",
       "      <th>8962</th>\n",
       "      <td>/abdullah-al-saleh/profil/spieler/260850</td>\n",
       "      <td>Ettifaq FC</td>\n",
       "      <td>Abdullah Al-Saleh</td>\n",
       "      <td>Goalkeeper</td>\n",
       "      <td>185.000000</td>\n",
       "      <td>35.0</td>\n",
       "      <td>0</td>\n",
       "      <td>0.0</td>\n",
       "      <td>0.0</td>\n",
       "      <td>0.0</td>\n",
       "      <td>...</td>\n",
       "      <td>0.000000</td>\n",
       "      <td>0.000000</td>\n",
       "      <td>0</td>\n",
       "      <td>0</td>\n",
       "      <td>0</td>\n",
       "      <td>0</td>\n",
       "      <td>50000</td>\n",
       "      <td>250000</td>\n",
       "      <td>1</td>\n",
       "      <td>0;</td>\n",
       "    </tr>\n",
       "    <tr>\n",
       "      <th>7869</th>\n",
       "      <td>/augusto-alcorcel/profil/spieler/1021426</td>\n",
       "      <td>Club Atlético Platense</td>\n",
       "      <td>Augusto Alcorcel</td>\n",
       "      <td>Goalkeeper</td>\n",
       "      <td>181.240353</td>\n",
       "      <td>22.0</td>\n",
       "      <td>0</td>\n",
       "      <td>0.0</td>\n",
       "      <td>0.0</td>\n",
       "      <td>0.0</td>\n",
       "      <td>...</td>\n",
       "      <td>0.000000</td>\n",
       "      <td>0.000000</td>\n",
       "      <td>0</td>\n",
       "      <td>0</td>\n",
       "      <td>0</td>\n",
       "      <td>0</td>\n",
       "      <td>25000</td>\n",
       "      <td>25000</td>\n",
       "      <td>1</td>\n",
       "      <td>0;</td>\n",
       "    </tr>\n",
       "    <tr>\n",
       "      <th>...</th>\n",
       "      <td>...</td>\n",
       "      <td>...</td>\n",
       "      <td>...</td>\n",
       "      <td>...</td>\n",
       "      <td>...</td>\n",
       "      <td>...</td>\n",
       "      <td>...</td>\n",
       "      <td>...</td>\n",
       "      <td>...</td>\n",
       "      <td>...</td>\n",
       "      <td>...</td>\n",
       "      <td>...</td>\n",
       "      <td>...</td>\n",
       "      <td>...</td>\n",
       "      <td>...</td>\n",
       "      <td>...</td>\n",
       "      <td>...</td>\n",
       "      <td>...</td>\n",
       "      <td>...</td>\n",
       "      <td>...</td>\n",
       "      <td>...</td>\n",
       "    </tr>\n",
       "    <tr>\n",
       "      <th>2001</th>\n",
       "      <td>/davide-marfella/profil/spieler/417414</td>\n",
       "      <td>SSC Napoli</td>\n",
       "      <td>Davide Marfella</td>\n",
       "      <td>Goalkeeper</td>\n",
       "      <td>192.000000</td>\n",
       "      <td>23.0</td>\n",
       "      <td>1</td>\n",
       "      <td>0.0</td>\n",
       "      <td>0.0</td>\n",
       "      <td>0.0</td>\n",
       "      <td>...</td>\n",
       "      <td>0.000000</td>\n",
       "      <td>9.000000</td>\n",
       "      <td>10</td>\n",
       "      <td>6</td>\n",
       "      <td>1</td>\n",
       "      <td>1</td>\n",
       "      <td>50000</td>\n",
       "      <td>100000</td>\n",
       "      <td>1</td>\n",
       "      <td>0;</td>\n",
       "    </tr>\n",
       "    <tr>\n",
       "      <th>2622</th>\n",
       "      <td>/alexandre-letellier/profil/spieler/93730</td>\n",
       "      <td>Paris Saint-Germain</td>\n",
       "      <td>Alexandre Letellier</td>\n",
       "      <td>Goalkeeper</td>\n",
       "      <td>193.000000</td>\n",
       "      <td>32.0</td>\n",
       "      <td>2</td>\n",
       "      <td>0.0</td>\n",
       "      <td>0.0</td>\n",
       "      <td>0.0</td>\n",
       "      <td>...</td>\n",
       "      <td>0.000000</td>\n",
       "      <td>10.588235</td>\n",
       "      <td>17</td>\n",
       "      <td>307</td>\n",
       "      <td>53</td>\n",
       "      <td>5</td>\n",
       "      <td>400000</td>\n",
       "      <td>1500000</td>\n",
       "      <td>1</td>\n",
       "      <td>0;</td>\n",
       "    </tr>\n",
       "    <tr>\n",
       "      <th>1459</th>\n",
       "      <td>/diego-conde/profil/spieler/341713</td>\n",
       "      <td>Getafe CF</td>\n",
       "      <td>Diego Conde</td>\n",
       "      <td>Goalkeeper</td>\n",
       "      <td>188.000000</td>\n",
       "      <td>24.0</td>\n",
       "      <td>1</td>\n",
       "      <td>0.0</td>\n",
       "      <td>0.0</td>\n",
       "      <td>0.0</td>\n",
       "      <td>...</td>\n",
       "      <td>0.000000</td>\n",
       "      <td>18.000000</td>\n",
       "      <td>5</td>\n",
       "      <td>0</td>\n",
       "      <td>0</td>\n",
       "      <td>0</td>\n",
       "      <td>300000</td>\n",
       "      <td>400000</td>\n",
       "      <td>1</td>\n",
       "      <td>0;</td>\n",
       "    </tr>\n",
       "    <tr>\n",
       "      <th>7897</th>\n",
       "      <td>/emanuel-sittaro/profil/spieler/717685</td>\n",
       "      <td>Instituto AC Córdoba</td>\n",
       "      <td>Emanuel Sittaro</td>\n",
       "      <td>Goalkeeper</td>\n",
       "      <td>185.000000</td>\n",
       "      <td>23.0</td>\n",
       "      <td>1</td>\n",
       "      <td>0.0</td>\n",
       "      <td>0.0</td>\n",
       "      <td>0.0</td>\n",
       "      <td>...</td>\n",
       "      <td>0.000000</td>\n",
       "      <td>18.000000</td>\n",
       "      <td>5</td>\n",
       "      <td>0</td>\n",
       "      <td>0</td>\n",
       "      <td>0</td>\n",
       "      <td>25000</td>\n",
       "      <td>25000</td>\n",
       "      <td>1</td>\n",
       "      <td>0;</td>\n",
       "    </tr>\n",
       "    <tr>\n",
       "      <th>2055</th>\n",
       "      <td>/antonio-mirante/profil/spieler/22141</td>\n",
       "      <td>AC Milan</td>\n",
       "      <td>Antonio Mirante</td>\n",
       "      <td>Goalkeeper</td>\n",
       "      <td>182.000000</td>\n",
       "      <td>39.0</td>\n",
       "      <td>1</td>\n",
       "      <td>0.0</td>\n",
       "      <td>0.0</td>\n",
       "      <td>0.0</td>\n",
       "      <td>...</td>\n",
       "      <td>0.000000</td>\n",
       "      <td>90.000000</td>\n",
       "      <td>1</td>\n",
       "      <td>266</td>\n",
       "      <td>47</td>\n",
       "      <td>2</td>\n",
       "      <td>300000</td>\n",
       "      <td>6000000</td>\n",
       "      <td>1</td>\n",
       "      <td>0;</td>\n",
       "    </tr>\n",
       "  </tbody>\n",
       "</table>\n",
       "<p>1229 rows × 22 columns</p>\n",
       "</div>"
      ],
      "text/plain": [
       "                                           player                    team  \\\n",
       "5284         /frank-fielding/profil/spieler/57070              Stoke City   \n",
       "8893  /masaaki-higashiguchi/profil/spieler/113712             Gamba Osaka   \n",
       "8894          /kei-ishikawa/profil/spieler/164251             Gamba Osaka   \n",
       "8962     /abdullah-al-saleh/profil/spieler/260850              Ettifaq FC   \n",
       "7869     /augusto-alcorcel/profil/spieler/1021426  Club Atlético Platense   \n",
       "...                                           ...                     ...   \n",
       "2001       /davide-marfella/profil/spieler/417414              SSC Napoli   \n",
       "2622    /alexandre-letellier/profil/spieler/93730     Paris Saint-Germain   \n",
       "1459           /diego-conde/profil/spieler/341713               Getafe CF   \n",
       "7897       /emanuel-sittaro/profil/spieler/717685    Instituto AC Córdoba   \n",
       "2055        /antonio-mirante/profil/spieler/22141                AC Milan   \n",
       "\n",
       "                      name    position      height   age  appearance  goals  \\\n",
       "5284        Frank Fielding  Goalkeeper  185.000000  35.0           2    0.0   \n",
       "8893  Masaaki Higashiguchi  Goalkeeper  184.000000  37.0           7    0.0   \n",
       "8894          Kei Ishikawa  Goalkeeper  185.000000  30.0           0    0.0   \n",
       "8962     Abdullah Al-Saleh  Goalkeeper  185.000000  35.0           0    0.0   \n",
       "7869      Augusto Alcorcel  Goalkeeper  181.240353  22.0           0    0.0   \n",
       "...                    ...         ...         ...   ...         ...    ...   \n",
       "2001       Davide Marfella  Goalkeeper  192.000000  23.0           1    0.0   \n",
       "2622   Alexandre Letellier  Goalkeeper  193.000000  32.0           2    0.0   \n",
       "1459           Diego Conde  Goalkeeper  188.000000  24.0           1    0.0   \n",
       "7897       Emanuel Sittaro  Goalkeeper  185.000000  23.0           1    0.0   \n",
       "2055       Antonio Mirante  Goalkeeper  182.000000  39.0           1    0.0   \n",
       "\n",
       "      assists  yellow cards  ...  goals conceded  clean sheets  \\\n",
       "5284      0.0           0.0  ...        1.000000      0.000000   \n",
       "8893      0.0           0.0  ...        1.714286      0.000000   \n",
       "8894      0.0           0.0  ...        0.000000      0.000000   \n",
       "8962      0.0           0.0  ...        0.000000      0.000000   \n",
       "7869      0.0           0.0  ...        0.000000      0.000000   \n",
       "...       ...           ...  ...             ...           ...   \n",
       "2001      0.0           0.0  ...        0.000000      9.000000   \n",
       "2622      0.0           0.0  ...        0.000000     10.588235   \n",
       "1459      0.0           0.0  ...        0.000000     18.000000   \n",
       "7897      0.0           0.0  ...        0.000000     18.000000   \n",
       "2055      0.0           0.0  ...        0.000000     90.000000   \n",
       "\n",
       "      minutes played  days_injured  games_injured  award  current_value  \\\n",
       "5284             180           400             51      2         200000   \n",
       "8893             630           678             92      5         200000   \n",
       "8894               0             0              0      0         100000   \n",
       "8962               0             0              0      0          50000   \n",
       "7869               0             0              0      0          25000   \n",
       "...              ...           ...            ...    ...            ...   \n",
       "2001              10             6              1      1          50000   \n",
       "2622              17           307             53      5         400000   \n",
       "1459               5             0              0      0         300000   \n",
       "7897               5             0              0      0          25000   \n",
       "2055               1           266             47      2         300000   \n",
       "\n",
       "      highest_value  position_encoded  winger;  \n",
       "5284        1000000                 1       0;  \n",
       "8893        1450000                 1       0;  \n",
       "8894         100000                 1       0;  \n",
       "8962         250000                 1       0;  \n",
       "7869          25000                 1       0;  \n",
       "...             ...               ...      ...  \n",
       "2001         100000                 1       0;  \n",
       "2622        1500000                 1       0;  \n",
       "1459         400000                 1       0;  \n",
       "7897          25000                 1       0;  \n",
       "2055        6000000                 1       0;  \n",
       "\n",
       "[1229 rows x 22 columns]"
      ]
     },
     "execution_count": 12,
     "metadata": {},
     "output_type": "execute_result"
    }
   ],
   "source": [
    "\n",
    "goalkeepers = data[data['position'] == 'Goalkeeper']\n",
    "best_goalkeepers = goalkeepers.sort_values(by='clean sheets', ascending=True)\n",
    "best_goalkeepers\n"
   ]
  },
  {
   "cell_type": "code",
   "execution_count": 13,
   "id": "4bc8be9a",
   "metadata": {
    "execution": {
     "iopub.execute_input": "2024-05-07T21:24:41.588809Z",
     "iopub.status.busy": "2024-05-07T21:24:41.588429Z",
     "iopub.status.idle": "2024-05-07T21:24:41.608600Z",
     "shell.execute_reply": "2024-05-07T21:24:41.607279Z"
    },
    "papermill": {
     "duration": 0.039538,
     "end_time": "2024-05-07T21:24:41.611352",
     "exception": false,
     "start_time": "2024-05-07T21:24:41.571814",
     "status": "completed"
    },
    "tags": []
   },
   "outputs": [
    {
     "data": {
      "text/html": [
       "<div>\n",
       "<style scoped>\n",
       "    .dataframe tbody tr th:only-of-type {\n",
       "        vertical-align: middle;\n",
       "    }\n",
       "\n",
       "    .dataframe tbody tr th {\n",
       "        vertical-align: top;\n",
       "    }\n",
       "\n",
       "    .dataframe thead th {\n",
       "        text-align: right;\n",
       "    }\n",
       "</style>\n",
       "<table border=\"1\" class=\"dataframe\">\n",
       "  <thead>\n",
       "    <tr style=\"text-align: right;\">\n",
       "      <th></th>\n",
       "      <th>name</th>\n",
       "      <th>highest_value</th>\n",
       "      <th>current_value</th>\n",
       "      <th>hv&gt;cv</th>\n",
       "    </tr>\n",
       "  </thead>\n",
       "  <tbody>\n",
       "    <tr>\n",
       "      <th>0</th>\n",
       "      <td>David de Gea</td>\n",
       "      <td>70000000</td>\n",
       "      <td>15000000</td>\n",
       "      <td>True</td>\n",
       "    </tr>\n",
       "    <tr>\n",
       "      <th>1</th>\n",
       "      <td>Jack Butland</td>\n",
       "      <td>22000000</td>\n",
       "      <td>1500000</td>\n",
       "      <td>True</td>\n",
       "    </tr>\n",
       "    <tr>\n",
       "      <th>2</th>\n",
       "      <td>Tom Heaton</td>\n",
       "      <td>6000000</td>\n",
       "      <td>600000</td>\n",
       "      <td>True</td>\n",
       "    </tr>\n",
       "    <tr>\n",
       "      <th>4</th>\n",
       "      <td>Raphaël Varane</td>\n",
       "      <td>80000000</td>\n",
       "      <td>40000000</td>\n",
       "      <td>True</td>\n",
       "    </tr>\n",
       "    <tr>\n",
       "      <th>5</th>\n",
       "      <td>Harry Maguire</td>\n",
       "      <td>70000000</td>\n",
       "      <td>25000000</td>\n",
       "      <td>True</td>\n",
       "    </tr>\n",
       "    <tr>\n",
       "      <th>...</th>\n",
       "      <td>...</td>\n",
       "      <td>...</td>\n",
       "      <td>...</td>\n",
       "      <td>...</td>\n",
       "    </tr>\n",
       "    <tr>\n",
       "      <th>10742</th>\n",
       "      <td>Milos Ninkovic</td>\n",
       "      <td>5500000</td>\n",
       "      <td>250000</td>\n",
       "      <td>True</td>\n",
       "    </tr>\n",
       "    <tr>\n",
       "      <th>10744</th>\n",
       "      <td>Alessandro Lopane</td>\n",
       "      <td>150000</td>\n",
       "      <td>125000</td>\n",
       "      <td>True</td>\n",
       "    </tr>\n",
       "    <tr>\n",
       "      <th>10745</th>\n",
       "      <td>Brandon Borrello</td>\n",
       "      <td>1200000</td>\n",
       "      <td>700000</td>\n",
       "      <td>True</td>\n",
       "    </tr>\n",
       "    <tr>\n",
       "      <th>10746</th>\n",
       "      <td>Amor Layouni</td>\n",
       "      <td>1000000</td>\n",
       "      <td>500000</td>\n",
       "      <td>True</td>\n",
       "    </tr>\n",
       "    <tr>\n",
       "      <th>10747</th>\n",
       "      <td>Yeni N'Gbakoto</td>\n",
       "      <td>3000000</td>\n",
       "      <td>500000</td>\n",
       "      <td>True</td>\n",
       "    </tr>\n",
       "  </tbody>\n",
       "</table>\n",
       "<p>5805 rows × 4 columns</p>\n",
       "</div>"
      ],
      "text/plain": [
       "                    name  highest_value  current_value  hv>cv\n",
       "0           David de Gea       70000000       15000000   True\n",
       "1           Jack Butland       22000000        1500000   True\n",
       "2             Tom Heaton        6000000         600000   True\n",
       "4         Raphaël Varane       80000000       40000000   True\n",
       "5          Harry Maguire       70000000       25000000   True\n",
       "...                  ...            ...            ...    ...\n",
       "10742     Milos Ninkovic        5500000         250000   True\n",
       "10744  Alessandro Lopane         150000         125000   True\n",
       "10745   Brandon Borrello        1200000         700000   True\n",
       "10746       Amor Layouni        1000000         500000   True\n",
       "10747     Yeni N'Gbakoto        3000000         500000   True\n",
       "\n",
       "[5805 rows x 4 columns]"
      ]
     },
     "execution_count": 13,
     "metadata": {},
     "output_type": "execute_result"
    }
   ],
   "source": [
    "df_temp = data[['name','highest_value', 'current_value']].copy()\n",
    "df_temp['hv>cv'] = df_temp['highest_value'] > df_temp['current_value']\n",
    "df_temp[df_temp['hv>cv']==True]"
   ]
  },
  {
   "cell_type": "code",
   "execution_count": 14,
   "id": "e0dcee2d",
   "metadata": {
    "execution": {
     "iopub.execute_input": "2024-05-07T21:24:41.645159Z",
     "iopub.status.busy": "2024-05-07T21:24:41.644111Z",
     "iopub.status.idle": "2024-05-07T21:24:42.809777Z",
     "shell.execute_reply": "2024-05-07T21:24:42.808555Z"
    },
    "papermill": {
     "duration": 1.186138,
     "end_time": "2024-05-07T21:24:42.812972",
     "exception": false,
     "start_time": "2024-05-07T21:24:41.626834",
     "status": "completed"
    },
    "tags": []
   },
   "outputs": [
    {
     "data": {
      "image/png": "[encoded data removed]",
      "text/plain": [
       "<Figure size 1500x600 with 2 Axes>"
      ]
     },
     "metadata": {},
     "output_type": "display_data"
    }
   ],
   "source": [
    "data.select_dtypes([int,float]).corr()['current_value'].sort_values(ascending=False)\n",
    "\n",
    "plt.figure(figsize=(15,6))\n",
    "sns.heatmap(data.select_dtypes([int,float]).corr(),annot=True,fmt='.2f',cmap='coolwarm')\n",
    "plt.title('Correlation Heatmap',fontweight='bold')\n",
    "plt.show()"
   ]
  },
  {
   "cell_type": "code",
   "execution_count": 15,
   "id": "6b8db5e2",
   "metadata": {
    "execution": {
     "iopub.execute_input": "2024-05-07T21:24:42.853833Z",
     "iopub.status.busy": "2024-05-07T21:24:42.852886Z",
     "iopub.status.idle": "2024-05-07T21:24:42.879763Z",
     "shell.execute_reply": "2024-05-07T21:24:42.878974Z"
    },
    "papermill": {
     "duration": 0.049497,
     "end_time": "2024-05-07T21:24:42.881925",
     "exception": false,
     "start_time": "2024-05-07T21:24:42.832428",
     "status": "completed"
    },
    "tags": []
   },
   "outputs": [
    {
     "data": {
      "text/plain": [
       "((8603, 21), (2151, 21))"
      ]
     },
     "execution_count": 15,
     "metadata": {},
     "output_type": "execute_result"
    }
   ],
   "source": [
    "X = data.drop(['current_value'], axis='columns').values\n",
    "y = data['current_value'].values\n",
    "X_train, X_test, y_train, y_test = train_test_split(X, y, test_size = 0.2)\n",
    "\n",
    "X_train.shape, X_test.shape\n"
   ]
  },
  {
   "cell_type": "code",
   "execution_count": 16,
   "id": "9b323665",
   "metadata": {
    "execution": {
     "iopub.execute_input": "2024-05-07T21:24:42.921501Z",
     "iopub.status.busy": "2024-05-07T21:24:42.921072Z",
     "iopub.status.idle": "2024-05-07T21:24:42.945580Z",
     "shell.execute_reply": "2024-05-07T21:24:42.944593Z"
    },
    "papermill": {
     "duration": 0.047263,
     "end_time": "2024-05-07T21:24:42.948017",
     "exception": false,
     "start_time": "2024-05-07T21:24:42.900754",
     "status": "completed"
    },
    "tags": []
   },
   "outputs": [
    {
     "data": {
      "text/html": [
       "<div>\n",
       "<style scoped>\n",
       "    .dataframe tbody tr th:only-of-type {\n",
       "        vertical-align: middle;\n",
       "    }\n",
       "\n",
       "    .dataframe tbody tr th {\n",
       "        vertical-align: top;\n",
       "    }\n",
       "\n",
       "    .dataframe thead th {\n",
       "        text-align: right;\n",
       "    }\n",
       "</style>\n",
       "<table border=\"1\" class=\"dataframe\">\n",
       "  <thead>\n",
       "    <tr style=\"text-align: right;\">\n",
       "      <th></th>\n",
       "      <th>team</th>\n",
       "      <th>position</th>\n",
       "      <th>height</th>\n",
       "      <th>age</th>\n",
       "      <th>appearance</th>\n",
       "      <th>goals</th>\n",
       "      <th>assists</th>\n",
       "      <th>yellow cards</th>\n",
       "      <th>second yellow cards</th>\n",
       "      <th>red cards</th>\n",
       "      <th>goals conceded</th>\n",
       "      <th>clean sheets</th>\n",
       "      <th>minutes played</th>\n",
       "      <th>days_injured</th>\n",
       "      <th>games_injured</th>\n",
       "      <th>award</th>\n",
       "      <th>current_value</th>\n",
       "      <th>highest_value</th>\n",
       "      <th>position_encoded</th>\n",
       "    </tr>\n",
       "  </thead>\n",
       "  <tbody>\n",
       "    <tr>\n",
       "      <th>0</th>\n",
       "      <td>Manchester United</td>\n",
       "      <td>Goalkeeper</td>\n",
       "      <td>181.240284</td>\n",
       "      <td>32.0</td>\n",
       "      <td>104</td>\n",
       "      <td>0.000000</td>\n",
       "      <td>0.000000</td>\n",
       "      <td>0.009585</td>\n",
       "      <td>0.0</td>\n",
       "      <td>0.0</td>\n",
       "      <td>1.217252</td>\n",
       "      <td>0.335463</td>\n",
       "      <td>9390</td>\n",
       "      <td>42</td>\n",
       "      <td>5</td>\n",
       "      <td>13</td>\n",
       "      <td>15000000</td>\n",
       "      <td>70000000</td>\n",
       "      <td>1</td>\n",
       "    </tr>\n",
       "    <tr>\n",
       "      <th>1</th>\n",
       "      <td>Manchester United</td>\n",
       "      <td>Goalkeeper</td>\n",
       "      <td>196.000000</td>\n",
       "      <td>30.0</td>\n",
       "      <td>15</td>\n",
       "      <td>0.000000</td>\n",
       "      <td>0.000000</td>\n",
       "      <td>0.069018</td>\n",
       "      <td>0.0</td>\n",
       "      <td>0.0</td>\n",
       "      <td>1.242331</td>\n",
       "      <td>0.207055</td>\n",
       "      <td>1304</td>\n",
       "      <td>510</td>\n",
       "      <td>58</td>\n",
       "      <td>1</td>\n",
       "      <td>1500000</td>\n",
       "      <td>22000000</td>\n",
       "      <td>1</td>\n",
       "    </tr>\n",
       "    <tr>\n",
       "      <th>2</th>\n",
       "      <td>Manchester United</td>\n",
       "      <td>Goalkeeper</td>\n",
       "      <td>188.000000</td>\n",
       "      <td>37.0</td>\n",
       "      <td>4</td>\n",
       "      <td>0.000000</td>\n",
       "      <td>0.000000</td>\n",
       "      <td>0.000000</td>\n",
       "      <td>0.0</td>\n",
       "      <td>0.0</td>\n",
       "      <td>0.616438</td>\n",
       "      <td>0.924658</td>\n",
       "      <td>292</td>\n",
       "      <td>697</td>\n",
       "      <td>84</td>\n",
       "      <td>4</td>\n",
       "      <td>600000</td>\n",
       "      <td>6000000</td>\n",
       "      <td>1</td>\n",
       "    </tr>\n",
       "    <tr>\n",
       "      <th>3</th>\n",
       "      <td>Manchester United</td>\n",
       "      <td>Defender Centre-Back</td>\n",
       "      <td>175.000000</td>\n",
       "      <td>25.0</td>\n",
       "      <td>82</td>\n",
       "      <td>0.028090</td>\n",
       "      <td>0.056180</td>\n",
       "      <td>0.224719</td>\n",
       "      <td>0.0</td>\n",
       "      <td>0.0</td>\n",
       "      <td>0.000000</td>\n",
       "      <td>0.000000</td>\n",
       "      <td>6408</td>\n",
       "      <td>175</td>\n",
       "      <td>22</td>\n",
       "      <td>9</td>\n",
       "      <td>50000000</td>\n",
       "      <td>50000000</td>\n",
       "      <td>2</td>\n",
       "    </tr>\n",
       "    <tr>\n",
       "      <th>4</th>\n",
       "      <td>Manchester United</td>\n",
       "      <td>Defender Centre-Back</td>\n",
       "      <td>191.000000</td>\n",
       "      <td>30.0</td>\n",
       "      <td>63</td>\n",
       "      <td>0.017889</td>\n",
       "      <td>0.017889</td>\n",
       "      <td>0.053667</td>\n",
       "      <td>0.0</td>\n",
       "      <td>0.0</td>\n",
       "      <td>0.000000</td>\n",
       "      <td>0.000000</td>\n",
       "      <td>5031</td>\n",
       "      <td>238</td>\n",
       "      <td>51</td>\n",
       "      <td>21</td>\n",
       "      <td>40000000</td>\n",
       "      <td>80000000</td>\n",
       "      <td>2</td>\n",
       "    </tr>\n",
       "  </tbody>\n",
       "</table>\n",
       "</div>"
      ],
      "text/plain": [
       "                team              position      height   age  appearance  \\\n",
       "0  Manchester United            Goalkeeper  181.240284  32.0         104   \n",
       "1  Manchester United            Goalkeeper  196.000000  30.0          15   \n",
       "2  Manchester United            Goalkeeper  188.000000  37.0           4   \n",
       "3  Manchester United  Defender Centre-Back  175.000000  25.0          82   \n",
       "4  Manchester United  Defender Centre-Back  191.000000  30.0          63   \n",
       "\n",
       "      goals   assists  yellow cards  second yellow cards  red cards  \\\n",
       "0  0.000000  0.000000      0.009585                  0.0        0.0   \n",
       "1  0.000000  0.000000      0.069018                  0.0        0.0   \n",
       "2  0.000000  0.000000      0.000000                  0.0        0.0   \n",
       "3  0.028090  0.056180      0.224719                  0.0        0.0   \n",
       "4  0.017889  0.017889      0.053667                  0.0        0.0   \n",
       "\n",
       "   goals conceded  clean sheets  minutes played  days_injured  games_injured  \\\n",
       "0        1.217252      0.335463            9390            42              5   \n",
       "1        1.242331      0.207055            1304           510             58   \n",
       "2        0.616438      0.924658             292           697             84   \n",
       "3        0.000000      0.000000            6408           175             22   \n",
       "4        0.000000      0.000000            5031           238             51   \n",
       "\n",
       "   award  current_value  highest_value  position_encoded  \n",
       "0     13       15000000       70000000                 1  \n",
       "1      1        1500000       22000000                 1  \n",
       "2      4         600000        6000000                 1  \n",
       "3      9       50000000       50000000                 2  \n",
       "4     21       40000000       80000000                 2  "
      ]
     },
     "execution_count": 16,
     "metadata": {},
     "output_type": "execute_result"
    }
   ],
   "source": [
    "\n",
    "df1 = data.drop(['player','name','winger;'], axis='columns')\n",
    "\n",
    "df1.head()"
   ]
  },
  {
   "cell_type": "code",
   "execution_count": 17,
   "id": "183eadc6",
   "metadata": {
    "execution": {
     "iopub.execute_input": "2024-05-07T21:24:42.990673Z",
     "iopub.status.busy": "2024-05-07T21:24:42.989985Z",
     "iopub.status.idle": "2024-05-07T21:24:43.009695Z",
     "shell.execute_reply": "2024-05-07T21:24:43.008557Z"
    },
    "papermill": {
     "duration": 0.044904,
     "end_time": "2024-05-07T21:24:43.012483",
     "exception": false,
     "start_time": "2024-05-07T21:24:42.967579",
     "status": "completed"
    },
    "tags": []
   },
   "outputs": [
    {
     "name": "stdout",
     "output_type": "stream",
     "text": [
      "<class 'pandas.core.frame.DataFrame'>\n",
      "RangeIndex: 10754 entries, 0 to 10753\n",
      "Data columns (total 19 columns):\n",
      " #   Column               Non-Null Count  Dtype  \n",
      "---  ------               --------------  -----  \n",
      " 0   team                 10754 non-null  object \n",
      " 1   position             10754 non-null  object \n",
      " 2   height               10754 non-null  float64\n",
      " 3   age                  10754 non-null  float64\n",
      " 4   appearance           10754 non-null  int64  \n",
      " 5   goals                10754 non-null  float64\n",
      " 6   assists              10754 non-null  float64\n",
      " 7   yellow cards         10754 non-null  float64\n",
      " 8   second yellow cards  10754 non-null  float64\n",
      " 9   red cards            10754 non-null  float64\n",
      " 10  goals conceded       10754 non-null  float64\n",
      " 11  clean sheets         10754 non-null  float64\n",
      " 12  minutes played       10754 non-null  int64  \n",
      " 13  days_injured         10754 non-null  int64  \n",
      " 14  games_injured        10754 non-null  int64  \n",
      " 15  award                10754 non-null  int64  \n",
      " 16  current_value        10754 non-null  int64  \n",
      " 17  highest_value        10754 non-null  int64  \n",
      " 18  position_encoded     10754 non-null  int64  \n",
      "dtypes: float64(9), int64(8), object(2)\n",
      "memory usage: 1.6+ MB\n"
     ]
    }
   ],
   "source": [
    "df1.info()\n"
   ]
  },
  {
   "cell_type": "code",
   "execution_count": 18,
   "id": "90594bc6",
   "metadata": {
    "execution": {
     "iopub.execute_input": "2024-05-07T21:24:43.053820Z",
     "iopub.status.busy": "2024-05-07T21:24:43.053045Z",
     "iopub.status.idle": "2024-05-07T21:24:43.067262Z",
     "shell.execute_reply": "2024-05-07T21:24:43.066299Z"
    },
    "papermill": {
     "duration": 0.037378,
     "end_time": "2024-05-07T21:24:43.069463",
     "exception": false,
     "start_time": "2024-05-07T21:24:43.032085",
     "status": "completed"
    },
    "tags": []
   },
   "outputs": [],
   "source": [
    "from sklearn.preprocessing import LabelEncoder \n",
    "\n",
    "encoders = {}\n",
    "text_features = ['team', 'position']\n",
    "for feature in text_features: \n",
    "    encoders[feature] = LabelEncoder()\n",
    "    df1[feature+\"_encoded\"] = encoders[feature].fit_transform(df1[feature])"
   ]
  },
  {
   "cell_type": "code",
   "execution_count": 19,
   "id": "763d5541",
   "metadata": {
    "execution": {
     "iopub.execute_input": "2024-05-07T21:24:43.111168Z",
     "iopub.status.busy": "2024-05-07T21:24:43.110514Z",
     "iopub.status.idle": "2024-05-07T21:24:43.563576Z",
     "shell.execute_reply": "2024-05-07T21:24:43.562263Z"
    },
    "papermill": {
     "duration": 0.477273,
     "end_time": "2024-05-07T21:24:43.566149",
     "exception": false,
     "start_time": "2024-05-07T21:24:43.088876",
     "status": "completed"
    },
    "tags": []
   },
   "outputs": [
    {
     "data": {
      "text/plain": [
       "<Axes: >"
      ]
     },
     "execution_count": 19,
     "metadata": {},
     "output_type": "execute_result"
    },
    {
     "data": {
      "image/png": "[encoded data removed]",
      "text/plain": [
       "<Figure size 640x480 with 2 Axes>"
      ]
     },
     "metadata": {},
     "output_type": "display_data"
    }
   ],
   "source": [
    "data_cleaned = df1.drop(columns=['team', 'position'], axis=1)\n",
    "corr = data_cleaned.corr()['current_value'].abs().sort_values(ascending=False)\n",
    "\n",
    "sns.heatmap(corr.to_frame(), annot=True, cmap='coolwarm' )"
   ]
  },
  {
   "cell_type": "code",
   "execution_count": 20,
   "id": "c3695bdc",
   "metadata": {
    "execution": {
     "iopub.execute_input": "2024-05-07T21:24:43.610980Z",
     "iopub.status.busy": "2024-05-07T21:24:43.610233Z",
     "iopub.status.idle": "2024-05-07T21:24:43.630410Z",
     "shell.execute_reply": "2024-05-07T21:24:43.628974Z"
    },
    "papermill": {
     "duration": 0.04583,
     "end_time": "2024-05-07T21:24:43.632960",
     "exception": false,
     "start_time": "2024-05-07T21:24:43.587130",
     "status": "completed"
    },
    "tags": []
   },
   "outputs": [
    {
     "name": "stdout",
     "output_type": "stream",
     "text": [
      "Şu Özellikler Kaldırılıyor: Index(['team_encoded'], dtype='object')\n"
     ]
    }
   ],
   "source": [
    "threshold = .005\n",
    "corr = data_cleaned.corr()['current_value']\n",
    "features_less_than_threshold = corr[abs(corr)<threshold].index\n",
    "print(f\"Şu Özellikler Kaldırılıyor: {features_less_than_threshold}\")\n",
    "data_cleaned.drop(columns=features_less_than_threshold, inplace=True)"
   ]
  },
  {
   "cell_type": "code",
   "execution_count": 21,
   "id": "7e1e2355",
   "metadata": {
    "execution": {
     "iopub.execute_input": "2024-05-07T21:24:43.676764Z",
     "iopub.status.busy": "2024-05-07T21:24:43.676278Z",
     "iopub.status.idle": "2024-05-07T21:24:53.216568Z",
     "shell.execute_reply": "2024-05-07T21:24:53.215275Z"
    },
    "papermill": {
     "duration": 9.565271,
     "end_time": "2024-05-07T21:24:53.218989",
     "exception": false,
     "start_time": "2024-05-07T21:24:43.653718",
     "status": "completed"
    },
    "tags": []
   },
   "outputs": [
    {
     "name": "stdout",
     "output_type": "stream",
     "text": [
      "RandomForestRegressor ile r kare puanı: 0.8847273313195613\n"
     ]
    }
   ],
   "source": [
    " \n",
    "from sklearn.model_selection import train_test_split\n",
    "\n",
    "X_train, X_test, y_train, y_test = train_test_split(data_cleaned.drop('current_value', axis=1), data_cleaned['current_value'], test_size= .2)\n",
    "\n",
    "#bir dizi veri işleme veya modelleme adımını birleştirmek için kullanılır. \n",
    "\n",
    "from sklearn.pipeline import Pipeline \n",
    "\n",
    "#veri setindeki farklı özellikler arasındaki ölçek farklılıklarını giderir.\n",
    "\n",
    "from sklearn.preprocessing import StandardScaler\n",
    "from sklearn.ensemble import RandomForestRegressor\n",
    "from sklearn.metrics import r2_score\n",
    "\n",
    "pipe = Pipeline([\n",
    "    (\"scaler\", StandardScaler()), \n",
    "    (\"regressor\", RandomForestRegressor(n_estimators=150))\n",
    "])\n",
    "pipe.fit(X_train, y_train)\n",
    "y_pred = pipe.predict(X_test)\n",
    "r2_squared_score = r2_score(y_test, y_pred)\n",
    "print(f\"RandomForestRegressor ile r kare puanı: {r2_squared_score}\")"
   ]
  },
  {
   "cell_type": "code",
   "execution_count": null,
   "id": "c3c9c776",
   "metadata": {
    "papermill": {
     "duration": 0.020256,
     "end_time": "2024-05-07T21:24:53.259965",
     "exception": false,
     "start_time": "2024-05-07T21:24:53.239709",
     "status": "completed"
    },
    "tags": []
   },
   "outputs": [],
   "source": []
  },
  {
   "cell_type": "code",
   "execution_count": 22,
   "id": "372c72f4",
   "metadata": {
    "execution": {
     "iopub.execute_input": "2024-05-07T21:24:53.303063Z",
     "iopub.status.busy": "2024-05-07T21:24:53.302620Z",
     "iopub.status.idle": "2024-05-07T21:24:53.347909Z",
     "shell.execute_reply": "2024-05-07T21:24:53.346679Z"
    },
    "papermill": {
     "duration": 0.069815,
     "end_time": "2024-05-07T21:24:53.350422",
     "exception": false,
     "start_time": "2024-05-07T21:24:53.280607",
     "status": "completed"
    },
    "tags": []
   },
   "outputs": [
    {
     "data": {
      "text/plain": [
       "0.8500935055330501"
      ]
     },
     "execution_count": 22,
     "metadata": {},
     "output_type": "execute_result"
    }
   ],
   "source": [
    "model = DecisionTreeRegressor(max_depth=5, random_state=42, splitter='best')\n",
    "model.fit(X_train, y_train)\n",
    "#r2 skoru\n",
    "model.score(X_test, y_test)"
   ]
  },
  {
   "cell_type": "markdown",
   "id": "fc13d7a4",
   "metadata": {
    "papermill": {
     "duration": 0.021299,
     "end_time": "2024-05-07T21:24:53.392454",
     "exception": false,
     "start_time": "2024-05-07T21:24:53.371155",
     "status": "completed"
    },
    "tags": []
   },
   "source": [
    "# Genelleme Yeteneğini Değerlendirme****"
   ]
  },
  {
   "cell_type": "code",
   "execution_count": 23,
   "id": "a118eb2a",
   "metadata": {
    "execution": {
     "iopub.execute_input": "2024-05-07T21:24:53.436265Z",
     "iopub.status.busy": "2024-05-07T21:24:53.435843Z",
     "iopub.status.idle": "2024-05-07T21:26:08.808084Z",
     "shell.execute_reply": "2024-05-07T21:26:08.806969Z"
    },
    "papermill": {
     "duration": 75.397118,
     "end_time": "2024-05-07T21:26:08.810624",
     "exception": false,
     "start_time": "2024-05-07T21:24:53.413506",
     "status": "completed"
    },
    "tags": []
   },
   "outputs": [
    {
     "name": "stdout",
     "output_type": "stream",
     "text": [
      "LinearRegression: -2105295.027959 (123662.250208)\n",
      "DecisionTreeRegressor: -1256443.096859 (74874.469877)\n",
      "RandomForestRegressor: -934186.869727 (59223.502444)\n",
      "GradientBoostingRegressor: -1034280.310244 (70218.092324)\n"
     ]
    }
   ],
   "source": [
    "#çapraz doğrulama kullanarak bir dizi modelin negatif ortalama mutlak hata skorlarını hesaplar.\n",
    "\n",
    "from sklearn.model_selection import train_test_split\n",
    "from sklearn.linear_model import LinearRegression\n",
    "from sklearn.linear_model import Ridge\n",
    "from sklearn.ensemble import RandomForestRegressor\n",
    "from sklearn.tree import DecisionTreeRegressor\n",
    "from sklearn.ensemble import GradientBoostingRegressor\n",
    "from sklearn.model_selection import GridSearchCV\n",
    "from sklearn.model_selection import ShuffleSplit\n",
    "from sklearn.model_selection import cross_val_score\n",
    "from sklearn.model_selection import KFold\n",
    "from sklearn.pipeline import Pipeline\n",
    "pipelines = []\n",
    "pipelines.append(('LinearRegression', Pipeline([('LR',LinearRegression())])))\n",
    "pipelines.append(('DecisionTreeRegressor', Pipeline([('CART', DecisionTreeRegressor())])))\n",
    "pipelines.append(('RandomForestRegressor', Pipeline([('RF', RandomForestRegressor())])))\n",
    "pipelines.append(('GradientBoostingRegressor', Pipeline([('GBM', GradientBoostingRegressor())])))\n",
    "\n",
    "results = []\n",
    "names = []\n",
    "for name, model in pipelines:\n",
    "    kfold = KFold(n_splits=10, random_state=9, shuffle = True)\n",
    "    cv_results = cross_val_score(model, X_train, y_train, cv=kfold, scoring='neg_mean_absolute_error')\n",
    "    results.append(cv_results)\n",
    "    names.append(name)\n",
    "    msg = \"%s: %f (%f)\" % (name, cv_results.mean(), cv_results.std())\n",
    "    print(msg)"
   ]
  },
  {
   "cell_type": "code",
   "execution_count": 24,
   "id": "6c09e6fb",
   "metadata": {
    "execution": {
     "iopub.execute_input": "2024-05-07T21:26:08.854487Z",
     "iopub.status.busy": "2024-05-07T21:26:08.854088Z",
     "iopub.status.idle": "2024-05-07T21:26:08.869023Z",
     "shell.execute_reply": "2024-05-07T21:26:08.867328Z"
    },
    "papermill": {
     "duration": 0.040007,
     "end_time": "2024-05-07T21:26:08.871637",
     "exception": false,
     "start_time": "2024-05-07T21:26:08.831630",
     "status": "completed"
    },
    "tags": []
   },
   "outputs": [],
   "source": [
    "from sklearn.preprocessing import LabelEncoder \n",
    "\n",
    "le = LabelEncoder()\n",
    "encoders = {}\n",
    "text_features = ['team', 'position']\n",
    "for feature in text_features: \n",
    "    encoders[feature] = le\n",
    "    data[feature+\"_encoded\"] = encoders[feature].fit_transform(data[feature])"
   ]
  },
  {
   "cell_type": "code",
   "execution_count": 25,
   "id": "7284e840",
   "metadata": {
    "execution": {
     "iopub.execute_input": "2024-05-07T21:26:08.915684Z",
     "iopub.status.busy": "2024-05-07T21:26:08.915302Z",
     "iopub.status.idle": "2024-05-07T21:26:08.920298Z",
     "shell.execute_reply": "2024-05-07T21:26:08.919083Z"
    },
    "papermill": {
     "duration": 0.029918,
     "end_time": "2024-05-07T21:26:08.922759",
     "exception": false,
     "start_time": "2024-05-07T21:26:08.892841",
     "status": "completed"
    },
    "tags": []
   },
   "outputs": [],
   "source": [
    "#Selecting features\n",
    "features = ['highest_value', 'appearance', 'minutes played', 'award', 'assists',\n",
    "            'goals','position_encoded', 'team_encoded']"
   ]
  },
  {
   "cell_type": "code",
   "execution_count": 26,
   "id": "2d4ebcea",
   "metadata": {
    "execution": {
     "iopub.execute_input": "2024-05-07T21:26:08.967582Z",
     "iopub.status.busy": "2024-05-07T21:26:08.967168Z",
     "iopub.status.idle": "2024-05-07T21:26:08.976937Z",
     "shell.execute_reply": "2024-05-07T21:26:08.975941Z"
    },
    "papermill": {
     "duration": 0.034929,
     "end_time": "2024-05-07T21:26:08.979403",
     "exception": false,
     "start_time": "2024-05-07T21:26:08.944474",
     "status": "completed"
    },
    "tags": []
   },
   "outputs": [],
   "source": [
    "#Choosing target\n",
    "X = data[features]\n",
    "y = data['current_value']"
   ]
  },
  {
   "cell_type": "code",
   "execution_count": 27,
   "id": "688fe725",
   "metadata": {
    "execution": {
     "iopub.execute_input": "2024-05-07T21:26:09.023554Z",
     "iopub.status.busy": "2024-05-07T21:26:09.023154Z",
     "iopub.status.idle": "2024-05-07T21:26:09.032752Z",
     "shell.execute_reply": "2024-05-07T21:26:09.031571Z"
    },
    "papermill": {
     "duration": 0.034825,
     "end_time": "2024-05-07T21:26:09.035284",
     "exception": false,
     "start_time": "2024-05-07T21:26:09.000459",
     "status": "completed"
    },
    "tags": []
   },
   "outputs": [],
   "source": [
    "#Splitting into test and train \n",
    "from sklearn.model_selection import train_test_split\n",
    "\n",
    "X_train, X_test, y_train, y_test = train_test_split(X, y, test_size = 0.15, random_state = 0)"
   ]
  },
  {
   "cell_type": "code",
   "execution_count": 28,
   "id": "90b3a839",
   "metadata": {
    "execution": {
     "iopub.execute_input": "2024-05-07T21:26:09.079323Z",
     "iopub.status.busy": "2024-05-07T21:26:09.078882Z",
     "iopub.status.idle": "2024-05-07T21:26:09.091289Z",
     "shell.execute_reply": "2024-05-07T21:26:09.090174Z"
    },
    "papermill": {
     "duration": 0.03714,
     "end_time": "2024-05-07T21:26:09.093667",
     "exception": false,
     "start_time": "2024-05-07T21:26:09.056527",
     "status": "completed"
    },
    "tags": []
   },
   "outputs": [],
   "source": [
    "#Implementing standard scaler\n",
    "from sklearn.preprocessing import StandardScaler \n",
    "\n",
    "sc = StandardScaler()\n",
    "X_train = sc.fit_transform(X_train)\n",
    "X_test = sc.transform(X_test)"
   ]
  },
  {
   "cell_type": "code",
   "execution_count": 29,
   "id": "911db9cc",
   "metadata": {
    "execution": {
     "iopub.execute_input": "2024-05-07T21:26:09.138114Z",
     "iopub.status.busy": "2024-05-07T21:26:09.137713Z",
     "iopub.status.idle": "2024-05-07T21:26:18.593240Z",
     "shell.execute_reply": "2024-05-07T21:26:18.592077Z"
    },
    "papermill": {
     "duration": 9.480494,
     "end_time": "2024-05-07T21:26:18.595596",
     "exception": false,
     "start_time": "2024-05-07T21:26:09.115102",
     "status": "completed"
    },
    "tags": []
   },
   "outputs": [
    {
     "data": {
      "text/html": [
       "<style>#sk-container-id-1 {color: black;background-color: white;}#sk-container-id-1 pre{padding: 0;}#sk-container-id-1 div.sk-toggleable {background-color: white;}#sk-container-id-1 label.sk-toggleable__label {cursor: pointer;display: block;width: 100%;margin-bottom: 0;padding: 0.3em;box-sizing: border-box;text-align: center;}#sk-container-id-1 label.sk-toggleable__label-arrow:before {content: \"▸\";float: left;margin-right: 0.25em;color: #696969;}#sk-container-id-1 label.sk-toggleable__label-arrow:hover:before {color: black;}#sk-container-id-1 div.sk-estimator:hover label.sk-toggleable__label-arrow:before {color: black;}#sk-container-id-1 div.sk-toggleable__content {max-height: 0;max-width: 0;overflow: hidden;text-align: left;background-color: #f0f8ff;}#sk-container-id-1 div.sk-toggleable__content pre {margin: 0.2em;color: black;border-radius: 0.25em;background-color: #f0f8ff;}#sk-container-id-1 input.sk-toggleable__control:checked~div.sk-toggleable__content {max-height: 200px;max-width: 100%;overflow: auto;}#sk-container-id-1 input.sk-toggleable__control:checked~label.sk-toggleable__label-arrow:before {content: \"▾\";}#sk-container-id-1 div.sk-estimator input.sk-toggleable__control:checked~label.sk-toggleable__label {background-color: #d4ebff;}#sk-container-id-1 div.sk-label input.sk-toggleable__control:checked~label.sk-toggleable__label {background-color: #d4ebff;}#sk-container-id-1 input.sk-hidden--visually {border: 0;clip: rect(1px 1px 1px 1px);clip: rect(1px, 1px, 1px, 1px);height: 1px;margin: -1px;overflow: hidden;padding: 0;position: absolute;width: 1px;}#sk-container-id-1 div.sk-estimator {font-family: monospace;background-color: #f0f8ff;border: 1px dotted black;border-radius: 0.25em;box-sizing: border-box;margin-bottom: 0.5em;}#sk-container-id-1 div.sk-estimator:hover {background-color: #d4ebff;}#sk-container-id-1 div.sk-parallel-item::after {content: \"\";width: 100%;border-bottom: 1px solid gray;flex-grow: 1;}#sk-container-id-1 div.sk-label:hover label.sk-toggleable__label {background-color: #d4ebff;}#sk-container-id-1 div.sk-serial::before {content: \"\";position: absolute;border-left: 1px solid gray;box-sizing: border-box;top: 0;bottom: 0;left: 50%;z-index: 0;}#sk-container-id-1 div.sk-serial {display: flex;flex-direction: column;align-items: center;background-color: white;padding-right: 0.2em;padding-left: 0.2em;position: relative;}#sk-container-id-1 div.sk-item {position: relative;z-index: 1;}#sk-container-id-1 div.sk-parallel {display: flex;align-items: stretch;justify-content: center;background-color: white;position: relative;}#sk-container-id-1 div.sk-item::before, #sk-container-id-1 div.sk-parallel-item::before {content: \"\";position: absolute;border-left: 1px solid gray;box-sizing: border-box;top: 0;bottom: 0;left: 50%;z-index: -1;}#sk-container-id-1 div.sk-parallel-item {display: flex;flex-direction: column;z-index: 1;position: relative;background-color: white;}#sk-container-id-1 div.sk-parallel-item:first-child::after {align-self: flex-end;width: 50%;}#sk-container-id-1 div.sk-parallel-item:last-child::after {align-self: flex-start;width: 50%;}#sk-container-id-1 div.sk-parallel-item:only-child::after {width: 0;}#sk-container-id-1 div.sk-dashed-wrapped {border: 1px dashed gray;margin: 0 0.4em 0.5em 0.4em;box-sizing: border-box;padding-bottom: 0.4em;background-color: white;}#sk-container-id-1 div.sk-label label {font-family: monospace;font-weight: bold;display: inline-block;line-height: 1.2em;}#sk-container-id-1 div.sk-label-container {text-align: center;}#sk-container-id-1 div.sk-container {/* jupyter's `normalize.less` sets `[hidden] { display: none; }` but bootstrap.min.css set `[hidden] { display: none !important; }` so we also need the `!important` here to be able to override the default hidden behavior on the sphinx rendered scikit-learn.org. See: https://github.com/scikit-learn/scikit-learn/issues/21755 */display: inline-block !important;position: relative;}#sk-container-id-1 div.sk-text-repr-fallback {display: none;}</style><div id=\"sk-container-id-1\" class=\"sk-top-container\"><div class=\"sk-text-repr-fallback\"><pre>GradientBoostingRegressor(learning_rate=0.01, max_depth=4, n_estimators=500)</pre><b>In a Jupyter environment, please rerun this cell to show the HTML representation or trust the notebook. <br />On GitHub, the HTML representation is unable to render, please try loading this page with nbviewer.org.</b></div><div class=\"sk-container\" hidden><div class=\"sk-item\"><div class=\"sk-estimator sk-toggleable\"><input class=\"sk-toggleable__control sk-hidden--visually\" id=\"sk-estimator-id-1\" type=\"checkbox\" checked><label for=\"sk-estimator-id-1\" class=\"sk-toggleable__label sk-toggleable__label-arrow\">GradientBoostingRegressor</label><div class=\"sk-toggleable__content\"><pre>GradientBoostingRegressor(learning_rate=0.01, max_depth=4, n_estimators=500)</pre></div></div></div></div></div>"
      ],
      "text/plain": [
       "GradientBoostingRegressor(learning_rate=0.01, max_depth=4, n_estimators=500)"
      ]
     },
     "execution_count": 29,
     "metadata": {},
     "output_type": "execute_result"
    }
   ],
   "source": [
    "#Gradient Boosting Regressor model\n",
    "from sklearn import ensemble\n",
    "\n",
    "params = {'n_estimators':500, 'max_depth':4, 'min_samples_split':2,'learning_rate': 0.01, 'loss':'squared_error'}\n",
    "regressor = ensemble.GradientBoostingRegressor(**params)\n",
    "\n",
    "regressor.fit(X_train, y_train)"
   ]
  },
  {
   "cell_type": "code",
   "execution_count": 30,
   "id": "b3c4cc16",
   "metadata": {
    "execution": {
     "iopub.execute_input": "2024-05-07T21:26:18.640383Z",
     "iopub.status.busy": "2024-05-07T21:26:18.639942Z",
     "iopub.status.idle": "2024-05-07T21:26:18.659654Z",
     "shell.execute_reply": "2024-05-07T21:26:18.658702Z"
    },
    "papermill": {
     "duration": 0.04496,
     "end_time": "2024-05-07T21:26:18.661996",
     "exception": false,
     "start_time": "2024-05-07T21:26:18.617036",
     "status": "completed"
    },
    "tags": []
   },
   "outputs": [],
   "source": [
    "y_pred = regressor.predict(X_test)"
   ]
  },
  {
   "cell_type": "code",
   "execution_count": 31,
   "id": "9d826d51",
   "metadata": {
    "execution": {
     "iopub.execute_input": "2024-05-07T21:26:18.707816Z",
     "iopub.status.busy": "2024-05-07T21:26:18.707446Z",
     "iopub.status.idle": "2024-05-07T21:26:18.714080Z",
     "shell.execute_reply": "2024-05-07T21:26:18.712808Z"
    },
    "papermill": {
     "duration": 0.033329,
     "end_time": "2024-05-07T21:26:18.717081",
     "exception": false,
     "start_time": "2024-05-07T21:26:18.683752",
     "status": "completed"
    },
    "tags": []
   },
   "outputs": [
    {
     "name": "stdout",
     "output_type": "stream",
     "text": [
      "0.7840589771051171\n"
     ]
    }
   ],
   "source": [
    "#Final output of model by r square score\n",
    "from sklearn.metrics import mean_squared_error\n",
    "from sklearn.metrics import r2_score\n",
    "\n",
    "r2 = r2_score(y_test, y_pred)\n",
    "print(r2)"
   ]
  },
  {
   "cell_type": "code",
   "execution_count": 32,
   "id": "0a466246",
   "metadata": {
    "execution": {
     "iopub.execute_input": "2024-05-07T21:26:18.761840Z",
     "iopub.status.busy": "2024-05-07T21:26:18.761439Z",
     "iopub.status.idle": "2024-05-07T21:26:18.783966Z",
     "shell.execute_reply": "2024-05-07T21:26:18.782727Z"
    },
    "papermill": {
     "duration": 0.047662,
     "end_time": "2024-05-07T21:26:18.786213",
     "exception": false,
     "start_time": "2024-05-07T21:26:18.738551",
     "status": "completed"
    },
    "tags": []
   },
   "outputs": [
    {
     "name": "stdout",
     "output_type": "stream",
     "text": [
      "H-İstatistiği: nan\n",
      "P-Değeri: nan\n",
      "Hipotez kabul edildi: Pozisyonlar arasında gol atma sayısı üzerinde anlamlı bir fark yoktur.\n"
     ]
    }
   ],
   "source": [
    "from scipy.stats import kruskal\n",
    "\n",
    "\n",
    "# Pozisyonlara göre gol sayılarını gruplayın\n",
    "striker_goals = data[data['position'] == 'Striker']['goals']\n",
    "midfielder_goals = data[data['position'] == 'Midfielder']['goals']\n",
    "defender_goals = data[data['position'] == 'Defender']['goals']\n",
    "goalkeeper_goals = data[data['position'] == 'Goalkeeper']['goals']\n",
    "\n",
    "# Kruskal-Wallis testini uygulayın\n",
    "h_statistic, p_value = kruskal(striker_goals,midfielder_goals,defender_goals,goalkeeper_goals)\n",
    "\n",
    "# Sonuçları yazdırın\n",
    "print(\"H-İstatistiği:\", h_statistic)\n",
    "print(\"P-Değeri:\", p_value)\n",
    "\n",
    "# Alfa düzeyini belirleyin\n",
    "alpha = 0.05\n",
    "\n",
    "# P değeri ile alfa düzeyini karşılaştırın\n",
    "if p_value < alpha:\n",
    "    print(\"Hipotez reddedildi: Pozisyonlar arasında gol atma sayısı üzerinde anlamlı bir fark vardır.\")\n",
    "else:\n",
    "    print(\"Hipotez kabul edildi: Pozisyonlar arasında gol atma sayısı üzerinde anlamlı bir fark yoktur.\")\n"
   ]
  },
  {
   "cell_type": "code",
   "execution_count": 33,
   "id": "ae91a226",
   "metadata": {
    "execution": {
     "iopub.execute_input": "2024-05-07T21:26:18.831087Z",
     "iopub.status.busy": "2024-05-07T21:26:18.830722Z",
     "iopub.status.idle": "2024-05-07T21:26:18.871571Z",
     "shell.execute_reply": "2024-05-07T21:26:18.870157Z"
    },
    "papermill": {
     "duration": 0.066889,
     "end_time": "2024-05-07T21:26:18.874720",
     "exception": false,
     "start_time": "2024-05-07T21:26:18.807831",
     "status": "completed"
    },
    "tags": []
   },
   "outputs": [
    {
     "name": "stdout",
     "output_type": "stream",
     "text": [
      "F-İstatistiği: 8.372581784425819\n",
      "P-Değeri: 2.8181988764782643e-36\n",
      "Hipotez reddedildi: Yaş grupları arasında transfer ücreti üzerinde anlamlı bir fark vardır.\n"
     ]
    }
   ],
   "source": [
    "from scipy.stats import f_oneway\n",
    "\n",
    "# Yaş gruplarına göre transfer ücretlerini gruplayın\n",
    "age_groups = data['age'].unique()\n",
    "age_group_transfer_fees = []\n",
    "\n",
    "for age in age_groups:\n",
    "    age_group_transfer_fees.append(data[data['age'] == age]['current_value'])\n",
    "\n",
    "# ANOVA testi yapın\n",
    "f_statistic, p_value = f_oneway(*age_group_transfer_fees)\n",
    "\n",
    "# Sonuçları yazdırın\n",
    "print(\"F-İstatistiği:\", f_statistic)\n",
    "print(\"P-Değeri:\", p_value)\n",
    "\n",
    "# Alfa düzeyini belirleyin\n",
    "alpha = 0.05\n",
    "\n",
    "# P değeri ile alfa düzeyini karşılaştırın\n",
    "if p_value < alpha:\n",
    "    print(\"Hipotez reddedildi: Yaş grupları arasında transfer ücreti üzerinde anlamlı bir fark vardır.\")\n",
    "else:\n",
    "    print(\"Hipotez kabul edildi: Yaş grupları arasında transfer ücreti üzerinde anlamlı bir fark yoktur.\")\n"
   ]
  },
  {
   "cell_type": "code",
   "execution_count": 34,
   "id": "25b272c8",
   "metadata": {
    "execution": {
     "iopub.execute_input": "2024-05-07T21:26:18.922046Z",
     "iopub.status.busy": "2024-05-07T21:26:18.921438Z",
     "iopub.status.idle": "2024-05-07T21:26:18.938460Z",
     "shell.execute_reply": "2024-05-07T21:26:18.936919Z"
    },
    "papermill": {
     "duration": 0.043567,
     "end_time": "2024-05-07T21:26:18.941027",
     "exception": false,
     "start_time": "2024-05-07T21:26:18.897460",
     "status": "completed"
    },
    "tags": []
   },
   "outputs": [
    {
     "name": "stdout",
     "output_type": "stream",
     "text": [
      "F-İstatistiği: 9.982111849615853\n",
      "P-Değeri: 0.00019597913828614\n",
      "Hipotez reddedildi: Kulüpler arasında transfer ücreti üzerinde anlamlı bir fark vardır.\n"
     ]
    }
   ],
   "source": [
    "from scipy.stats import f_oneway\n",
    "\n",
    "# Kulüplere göre transfer ücretlerini gruplayın\n",
    "club_transfer_fees = []\n",
    "\n",
    "# Örnek olarak, belirli birkaç kulübü seçebiliriz\n",
    "clubs = ['Real Madrid', 'Gaziantep FK', 'Galatasaray']\n",
    "\n",
    "for club in clubs:\n",
    "    club_transfer_fees.append(data[data['team'] == club]['current_value'])\n",
    "\n",
    "# ANOVA testi yapın\n",
    "f_statistic, p_value = f_oneway(*club_transfer_fees)\n",
    "\n",
    "# Sonuçları yazdırın\n",
    "print(\"F-İstatistiği:\", f_statistic)\n",
    "print(\"P-Değeri:\", p_value)\n",
    "\n",
    "# Alfa düzeyini belirleyin\n",
    "alpha = 0.05\n",
    "\n",
    "# P değeri ile alfa düzeyini karşılaştırın\n",
    "if p_value < alpha:\n",
    "    print(\"Hipotez reddedildi: Kulüpler arasında transfer ücreti üzerinde anlamlı bir fark vardır.\")\n",
    "else:\n",
    "    print(\"Hipotez kabul edildi: Kulüpler arasında transfer ücreti üzerinde anlamlı bir fark yoktur.\")\n"
   ]
  }
 ],
 "metadata": {
  "kaggle": {
   "accelerator": "none",
   "dataSources": [
    {
     "datasetId": 4084120,
     "sourceId": 7088303,
     "sourceType": "datasetVersion"
    },
    {
     "datasetId": 4936477,
     "sourceId": 8310162,
     "sourceType": "datasetVersion"
    },
    {
     "datasetId": 4960322,
     "sourceId": 8349302,
     "sourceType": "datasetVersion"
    },
    {
     "datasetId": 4960334,
     "sourceId": 8349321,
     "sourceType": "datasetVersion"
    }
   ],
   "dockerImageVersionId": 30698,
   "isGpuEnabled": false,
   "isInternetEnabled": false,
   "language": "python",
   "sourceType": "notebook"
  },
  "kernelspec": {
   "display_name": "Python 3",
   "language": "python",
   "name": "python3"
  },
  "language_info": {
   "codemirror_mode": {
    "name": "ipython",
    "version": 3
   },
   "file_extension": ".py",
   "mimetype": "text/x-python",
   "name": "python",
   "nbconvert_exporter": "python",
   "pygments_lexer": "ipython3",
   "version": "3.10.13"
  },
  "papermill": {
   "default_parameters": {},
   "duration": 105.167443,
   "end_time": "2024-05-07T21:26:19.586371",
   "environment_variables": {},
   "exception": null,
   "input_path": "__notebook__.ipynb",
   "output_path": "__notebook__.ipynb",
   "parameters": {},
   "start_time": "2024-05-07T21:24:34.418928",
   "version": "2.5.0"
  }
 },
 "nbformat": 4,
 "nbformat_minor": 5
}
